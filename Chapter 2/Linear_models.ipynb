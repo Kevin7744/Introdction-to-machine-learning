{
 "cells": [
  {
   "cell_type": "markdown",
   "metadata": {},
   "source": [
    "# Linear models\n",
    "Linear models make prediction using linear functionn of the input features \n",
    "\n",
    "* Linear models for regression.<br>\n",
    "        <br>\n",
    "        The general formula looks this...<br>\n",
    "        <br>\n",
    "        <em>y = w[0] * x[0] + w[1] * x[1] + .... + w[p] * x[p] + b </em><br>\n",
    "        <br>\n",
    "        Here, x[0] to x[p] denotes the features (<am>which is p in this case.</em>) of a single data point, <em>w</em> and <em>b</em> are parametersof the model that are learned, and <em>y</em> is the prediction the model makes."
   ]
  },
  {
   "cell_type": "code",
   "execution_count": 1,
   "metadata": {},
   "outputs": [
    {
     "ename": "ModuleNotFoundError",
     "evalue": "No module named 'mglearn'",
     "output_type": "error",
     "traceback": [
      "\u001b[1;31m---------------------------------------------------------------------------\u001b[0m",
      "\u001b[1;31mModuleNotFoundError\u001b[0m                       Traceback (most recent call last)",
      "Cell \u001b[1;32mIn[1], line 1\u001b[0m\n\u001b[1;32m----> 1\u001b[0m \u001b[38;5;28;01mimport\u001b[39;00m \u001b[38;5;21;01mmglearn\u001b[39;00m\n\u001b[0;32m      2\u001b[0m mglearn\u001b[38;5;241m.\u001b[39mplots\u001b[38;5;241m.\u001b[39mplots_linear_regression_wave()\n",
      "\u001b[1;31mModuleNotFoundError\u001b[0m: No module named 'mglearn'"
     ]
    }
   ],
   "source": [
    "import mglearn\n",
    "mglearn.plots.plots_linear_regression_wave()"
   ]
  },
  {
   "cell_type": "markdown",
   "metadata": {},
   "source": [
    "Linear models for regression can be characterized as regression models for which the prediction is a line for a single feature, a plane for two features, or hyper-plane in higher dimensions."
   ]
  },
  {
   "cell_type": "markdown",
   "metadata": {},
   "source": [
    "For datasets with many features, liner models can be very powerful. In particular, if there a more features than data points, any target y can be perfectly modeled(on the training set) as a linear function."
   ]
  },
  {
   "cell_type": "markdown",
   "metadata": {},
   "source": [
    "There are many different linear models for regression. The difference lies in how parameters w and b are learned from the training data, and how model complexity can be controlled."
   ]
  },
  {
   "cell_type": "markdown",
   "metadata": {},
   "source": [
    "* Linear regression(<em>aka ordinary least squares</em>)"
   ]
  },
  {
   "cell_type": "markdown",
   "metadata": {},
   "source": []
  },
  {
   "cell_type": "markdown",
   "metadata": {},
   "source": []
  }
 ],
 "metadata": {
  "kernelspec": {
   "display_name": "Python 3 (ipykernel)",
   "language": "python",
   "name": "python3"
  },
  "language_info": {
   "codemirror_mode": {
    "name": "ipython",
    "version": 3
   },
   "file_extension": ".py",
   "mimetype": "text/x-python",
   "name": "python",
   "nbconvert_exporter": "python",
   "pygments_lexer": "ipython3",
   "version": "3.11.5"
  }
 },
 "nbformat": 4,
 "nbformat_minor": 2
}
